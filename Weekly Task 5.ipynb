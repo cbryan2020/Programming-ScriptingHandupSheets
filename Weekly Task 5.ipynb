{
 "cells": [
  {
   "cell_type": "code",
   "execution_count": null,
   "id": "2e451104",
   "metadata": {},
   "outputs": [],
   "source": [
    "############################################################################\n",
    "# Weekly Tasks 05\n",
    "############################################################################\n",
    "\n",
    "import datetime\n",
    "\n",
    "# get time\n",
    "time = datetime.datetime.now()\n",
    "\n",
    "# get day of week as integer\n",
    "today = time.weekday()\n",
    "\n",
    "# print output\n",
    "if today < 6:\n",
    "    print(\"Yes, unfortunately today is a weekday.\")\n",
    "else: \n",
    "    print(\"It is the weekend, yay!\")\n",
    "    \n",
    "    \n",
    "# References:\n",
    "    # https://www.udemy.com/course/the-data-science-course-complete-data-science-bootcamp/\n",
    "    # https://www.programiz.com/python-programming/datetime\n",
    "    # https://pythontic.com/datetime/date/weekday\n",
    "        "
   ]
  }
 ],
 "metadata": {
  "kernelspec": {
   "display_name": "Python 3 (ipykernel)",
   "language": "python",
   "name": "python3"
  },
  "language_info": {
   "codemirror_mode": {
    "name": "ipython",
    "version": 3
   },
   "file_extension": ".py",
   "mimetype": "text/x-python",
   "name": "python",
   "nbconvert_exporter": "python",
   "pygments_lexer": "ipython3",
   "version": "3.10.9"
  }
 },
 "nbformat": 4,
 "nbformat_minor": 5
}

{
 "cells": [
  {
   "cell_type": "code",
   "execution_count": null,
   "id": "1a8a6a84",
   "metadata": {},
   "outputs": [],
   "source": [
    "############################################################################\n",
    "# Weekly Tasks 06\n",
    "############################################################################\n",
    "\n",
    "import random\n",
    "\n",
    "import math\n",
    "\n",
    "x=int(input(\"Enter a positive number: \"))\n",
    "\n",
    "print(f\"The sum of these is {math.sqrt(x)}\")\n",
    "\n",
    "# References:\n",
    "    # https://www.udemy.com/course/the-data-science-course-complete-data-science-bootcamp/\n",
    "    # https://www.w3schools.com/python/ref_math_sqrt.asp#:~:text=The%20math.,than%20or%20equal%20to%200.\n",
    "        "
   ]
  }
 ],
 "metadata": {
  "kernelspec": {
   "display_name": "Python 3 (ipykernel)",
   "language": "python",
   "name": "python3"
  },
  "language_info": {
   "codemirror_mode": {
    "name": "ipython",
    "version": 3
   },
   "file_extension": ".py",
   "mimetype": "text/x-python",
   "name": "python",
   "nbconvert_exporter": "python",
   "pygments_lexer": "ipython3",
   "version": "3.10.9"
  }
 },
 "nbformat": 4,
 "nbformat_minor": 5
}

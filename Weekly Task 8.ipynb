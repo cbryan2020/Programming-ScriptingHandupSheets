{
 "cells": [
  {
   "cell_type": "code",
   "execution_count": null,
   "id": "2d298cb5",
   "metadata": {},
   "outputs": [],
   "source": [
    "############################################################################\n",
    "# Weekly Tasks 08\n",
    "############################################################################\n",
    "\n",
    "#import numpy and matplotlib\n",
    "import numpy as np\n",
    "import matplotlib.pyplot as plot\n",
    "\n",
    "# create normal distribution\n",
    "histvalues = np.random.normal(loc=10, scale=1, size=1000)\n",
    "\n",
    "# create histogram values\n",
    "plot.hist(values, bins=50, alpha=0.5, color='red')\n",
    "\n",
    "# create x values\n",
    "x = np.linspace(0, 10)\n",
    "\n",
    "# calculate y values (h(x) = x^3)\n",
    "y=x**3\n",
    "\n",
    "# plot the function\n",
    "plot.plot(x, y, color='green')\n",
    "\n",
    "# add title and labels for the x and y axes\n",
    "plot.title('Histogram + Plot')\n",
    "\n",
    "# add X label \n",
    "plot.xlabel('X Value')\n",
    "\n",
    "# add Y label\n",
    "plot.ylabel('Y Value')\n",
    "\n",
    "# print the plot\n",
    "plot.show()\n",
    "\n",
    "# References:\n",
    "    # https://www.udemy.com/course/the-data-science-course-complete-data-science-bootcamp/\n",
    "    # https://numpy.org/doc/stable/reference/random/generated/numpy.random.normal.html\n",
    "    # https://numpy.org/doc/stable/reference/generated/numpy.linspace.html\n"
   ]
  }
 ],
 "metadata": {
  "kernelspec": {
   "display_name": "Python 3 (ipykernel)",
   "language": "python",
   "name": "python3"
  },
  "language_info": {
   "codemirror_mode": {
    "name": "ipython",
    "version": 3
   },
   "file_extension": ".py",
   "mimetype": "text/x-python",
   "name": "python",
   "nbconvert_exporter": "python",
   "pygments_lexer": "ipython3",
   "version": "3.10.9"
  }
 },
 "nbformat": 4,
 "nbformat_minor": 5
}

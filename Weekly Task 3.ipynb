{
 "cells": [
  {
   "cell_type": "code",
   "execution_count": null,
   "id": "8c147068",
   "metadata": {},
   "outputs": [],
   "source": [
    "############################################################################\n",
    "# Weekly Tasks 03\n",
    "############################################################################\n",
    "\n",
    "account_number=input(\"enter account number:\")\n",
    "\n",
    "# get last 4 digits\n",
    "last4digits=account_number[-min(4, len(account_number)):]\n",
    "\n",
    "# calculate number of x requires i.e. lenght of account_number minus 4\n",
    "xrequired = (len(account_number) - 4)\n",
    "\n",
    "# print x and last 4 numbers\n",
    "blacked_account_number = (xrequired*\"X\") + last4digits\n",
    "\n",
    "print(blacked_account_number)\n",
    "\n",
    "\n",
    "# References:\n",
    "    # https://www.udemy.com/course/the-data-science-course-complete-data-science-bootcamp/\n",
    "        \n",
    "        \n"
   ]
  }
 ],
 "metadata": {
  "kernelspec": {
   "display_name": "Python 3 (ipykernel)",
   "language": "python",
   "name": "python3"
  },
  "language_info": {
   "codemirror_mode": {
    "name": "ipython",
    "version": 3
   },
   "file_extension": ".py",
   "mimetype": "text/x-python",
   "name": "python",
   "nbconvert_exporter": "python",
   "pygments_lexer": "ipython3",
   "version": "3.10.9"
  }
 },
 "nbformat": 4,
 "nbformat_minor": 5
}

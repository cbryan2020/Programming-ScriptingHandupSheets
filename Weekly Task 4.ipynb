{
 "cells": [
  {
   "cell_type": "code",
   "execution_count": null,
   "id": "ecab1a90",
   "metadata": {},
   "outputs": [],
   "source": [
    "############################################################################\n",
    "# Weekly Tasks 04\n",
    "############################################################################\n",
    "\n",
    "import random\n",
    "\n",
    "import math\n",
    "\n",
    "x=int(input(\"Enter a positive number: \"))\n",
    "\n",
    "print(f\"The square root is {math.sqrt(x)}\")\n",
    "        \n",
    "# References:\n",
    "    # https://www.udemy.com/course/the-data-science-course-complete-data-science-bootcamp/\n",
    "    # https://www.programiz.com/python-programming/examples/random-number#:~:text=To%20generate%20random%20number%20in,is%20defined%20in%20random%20module.\n",
    "    # https://developer.mozilla.org/en-US/docs/Web/JavaScript/Reference/Global_Objects/Math/sqrt"
   ]
  }
 ],
 "metadata": {
  "kernelspec": {
   "display_name": "Python 3 (ipykernel)",
   "language": "python",
   "name": "python3"
  },
  "language_info": {
   "codemirror_mode": {
    "name": "ipython",
    "version": 3
   },
   "file_extension": ".py",
   "mimetype": "text/x-python",
   "name": "python",
   "nbconvert_exporter": "python",
   "pygments_lexer": "ipython3",
   "version": "3.10.9"
  }
 },
 "nbformat": 4,
 "nbformat_minor": 5
}

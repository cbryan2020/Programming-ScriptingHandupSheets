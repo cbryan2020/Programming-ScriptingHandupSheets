{
 "cells": [
  {
   "cell_type": "code",
   "execution_count": null,
   "id": "873c792f",
   "metadata": {},
   "outputs": [],
   "source": [
    "############################################################################\n",
    "# Weekly Tasks 02\n",
    "############################################################################\n",
    "\n",
    "amount1=int(input(\"Enter amount1 (in cent):\"))\n",
    "amount2=int(input(\"Enter amount2 (in cent):\"))\n",
    "\n",
    "amount_total=amount1+amount2\n",
    "\n",
    "euro=amount_total/100\n",
    "\n",
    "print(f\"The sum of these is €{euro}\")\n",
    "\n",
    "\n",
    "# References:\n",
    "    # https://www.udemy.com/course/the-data-science-course-complete-data-science-bootcamp/\n",
    "        \n",
    "        \n"
   ]
  }
 ],
 "metadata": {
  "kernelspec": {
   "display_name": "Python 3 (ipykernel)",
   "language": "python",
   "name": "python3"
  },
  "language_info": {
   "codemirror_mode": {
    "name": "ipython",
    "version": 3
   },
   "file_extension": ".py",
   "mimetype": "text/x-python",
   "name": "python",
   "nbconvert_exporter": "python",
   "pygments_lexer": "ipython3",
   "version": "3.10.9"
  }
 },
 "nbformat": 4,
 "nbformat_minor": 5
}

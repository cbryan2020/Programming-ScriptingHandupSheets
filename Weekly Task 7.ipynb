{
 "cells": [
  {
   "cell_type": "code",
   "execution_count": 4,
   "id": "cd3df549",
   "metadata": {},
   "outputs": [
    {
     "name": "stdout",
     "output_type": "stream",
     "text": [
      "/Users/conorbryan/Desktop\n"
     ]
    }
   ],
   "source": [
    "############################################################################\n",
    "# Weekly Tasks 07\n",
    "############################################################################\n",
    "\n",
    "# set working directory to where file is saved\n",
    "\n",
    "cd ~/Desktop\n"
   ]
  },
  {
   "cell_type": "code",
   "execution_count": 5,
   "id": "7ca1ec50",
   "metadata": {},
   "outputs": [
    {
     "name": "stdout",
     "output_type": "stream",
     "text": [
      "Enter file name: file.txt\n",
      "File contains 117 number of 'E's.\n"
     ]
    }
   ],
   "source": [
    "# prompt use to enter file name to be used\n",
    "file = input(\"Enter file name: \")\n",
    "\n",
    "# get python to read file\n",
    "with open(file, 'r') as file:\n",
    "    contents = file.read()\n",
    "\n",
    "# create variable for Es in text file\n",
    "\n",
    "    #set variable to 0    \n",
    "E = 0\n",
    "\n",
    "    #increase variable everytime a lower or upper case E charcter is read\n",
    "for char in contents:\n",
    "    if char == 'E' or char == 'e':\n",
    "        E = E+1\n",
    "\n",
    "# tell user how Es are in the file\n",
    "print(f\"File contains {E} number of 'E's.\")\n",
    "\n",
    "# References:\n",
    "    # https://www.udemy.com/course/the-data-science-course-complete-data-science-bootcamp/\n",
    "    # https://web.stanford.edu/class/archive/cs/cs106a/cs106a.1204/handouts/py-file.html\n",
    "    # https://stackabuse.com/reading-files-with-python/\n",
    "    # https://pythonexamples.org/python-count-number-of-characters-in-text-file/"
   ]
  },
  {
   "cell_type": "code",
   "execution_count": null,
   "id": "e3215146",
   "metadata": {},
   "outputs": [],
   "source": []
  }
 ],
 "metadata": {
  "kernelspec": {
   "display_name": "Python 3 (ipykernel)",
   "language": "python",
   "name": "python3"
  },
  "language_info": {
   "codemirror_mode": {
    "name": "ipython",
    "version": 3
   },
   "file_extension": ".py",
   "mimetype": "text/x-python",
   "name": "python",
   "nbconvert_exporter": "python",
   "pygments_lexer": "ipython3",
   "version": "3.10.9"
  }
 },
 "nbformat": 4,
 "nbformat_minor": 5
}
